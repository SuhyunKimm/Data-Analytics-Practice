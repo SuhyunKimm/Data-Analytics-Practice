{
 "cells": [
  {
   "cell_type": "code",
   "execution_count": 1,
   "id": "f5635942-49e9-4b32-bc9a-687a848fbc0c",
   "metadata": {},
   "outputs": [],
   "source": [
    "import pandas as pd\n",
    "import numpy as np\n",
    "import seaborn as sns\n",
    "import matplotlib.pyplot as plt"
   ]
  },
  {
   "cell_type": "code",
   "execution_count": 2,
   "id": "b7a8610c-876d-44ed-8b54-60dfd574ecb1",
   "metadata": {},
   "outputs": [
    {
     "data": {
      "text/html": [
       "<div>\n",
       "<style scoped>\n",
       "    .dataframe tbody tr th:only-of-type {\n",
       "        vertical-align: middle;\n",
       "    }\n",
       "\n",
       "    .dataframe tbody tr th {\n",
       "        vertical-align: top;\n",
       "    }\n",
       "\n",
       "    .dataframe thead th {\n",
       "        text-align: right;\n",
       "    }\n",
       "</style>\n",
       "<table border=\"1\" class=\"dataframe\">\n",
       "  <thead>\n",
       "    <tr style=\"text-align: right;\">\n",
       "      <th></th>\n",
       "      <th>rental_id</th>\n",
       "      <th>rent</th>\n",
       "      <th>bedrooms</th>\n",
       "      <th>bathrooms</th>\n",
       "      <th>size_sqft</th>\n",
       "      <th>min_to_subway</th>\n",
       "      <th>floor</th>\n",
       "      <th>building_age_yrs</th>\n",
       "      <th>no_fee</th>\n",
       "      <th>has_roofdeck</th>\n",
       "      <th>has_washer_dryer</th>\n",
       "      <th>has_doorman</th>\n",
       "      <th>has_elevator</th>\n",
       "      <th>has_dishwasher</th>\n",
       "      <th>has_patio</th>\n",
       "      <th>has_gym</th>\n",
       "      <th>neighborhood</th>\n",
       "      <th>borough</th>\n",
       "    </tr>\n",
       "  </thead>\n",
       "  <tbody>\n",
       "    <tr>\n",
       "      <th>0</th>\n",
       "      <td>1545</td>\n",
       "      <td>2550</td>\n",
       "      <td>0.0</td>\n",
       "      <td>1</td>\n",
       "      <td>480</td>\n",
       "      <td>9</td>\n",
       "      <td>2.0</td>\n",
       "      <td>17</td>\n",
       "      <td>1</td>\n",
       "      <td>1</td>\n",
       "      <td>0</td>\n",
       "      <td>0</td>\n",
       "      <td>1</td>\n",
       "      <td>1</td>\n",
       "      <td>0</td>\n",
       "      <td>1</td>\n",
       "      <td>Upper East Side</td>\n",
       "      <td>Manhattan</td>\n",
       "    </tr>\n",
       "    <tr>\n",
       "      <th>1</th>\n",
       "      <td>2472</td>\n",
       "      <td>11500</td>\n",
       "      <td>2.0</td>\n",
       "      <td>2</td>\n",
       "      <td>2000</td>\n",
       "      <td>4</td>\n",
       "      <td>1.0</td>\n",
       "      <td>96</td>\n",
       "      <td>0</td>\n",
       "      <td>0</td>\n",
       "      <td>0</td>\n",
       "      <td>0</td>\n",
       "      <td>0</td>\n",
       "      <td>0</td>\n",
       "      <td>0</td>\n",
       "      <td>0</td>\n",
       "      <td>Greenwich Village</td>\n",
       "      <td>Manhattan</td>\n",
       "    </tr>\n",
       "    <tr>\n",
       "      <th>2</th>\n",
       "      <td>2919</td>\n",
       "      <td>4500</td>\n",
       "      <td>1.0</td>\n",
       "      <td>1</td>\n",
       "      <td>916</td>\n",
       "      <td>2</td>\n",
       "      <td>51.0</td>\n",
       "      <td>29</td>\n",
       "      <td>0</td>\n",
       "      <td>1</td>\n",
       "      <td>0</td>\n",
       "      <td>1</td>\n",
       "      <td>1</td>\n",
       "      <td>1</td>\n",
       "      <td>0</td>\n",
       "      <td>0</td>\n",
       "      <td>Midtown</td>\n",
       "      <td>Manhattan</td>\n",
       "    </tr>\n",
       "    <tr>\n",
       "      <th>3</th>\n",
       "      <td>2790</td>\n",
       "      <td>4795</td>\n",
       "      <td>1.0</td>\n",
       "      <td>1</td>\n",
       "      <td>975</td>\n",
       "      <td>3</td>\n",
       "      <td>8.0</td>\n",
       "      <td>31</td>\n",
       "      <td>0</td>\n",
       "      <td>0</td>\n",
       "      <td>0</td>\n",
       "      <td>1</td>\n",
       "      <td>1</td>\n",
       "      <td>1</td>\n",
       "      <td>0</td>\n",
       "      <td>1</td>\n",
       "      <td>Greenwich Village</td>\n",
       "      <td>Manhattan</td>\n",
       "    </tr>\n",
       "    <tr>\n",
       "      <th>4</th>\n",
       "      <td>3946</td>\n",
       "      <td>17500</td>\n",
       "      <td>2.0</td>\n",
       "      <td>2</td>\n",
       "      <td>4800</td>\n",
       "      <td>3</td>\n",
       "      <td>4.0</td>\n",
       "      <td>136</td>\n",
       "      <td>0</td>\n",
       "      <td>0</td>\n",
       "      <td>0</td>\n",
       "      <td>1</td>\n",
       "      <td>1</td>\n",
       "      <td>1</td>\n",
       "      <td>0</td>\n",
       "      <td>1</td>\n",
       "      <td>Soho</td>\n",
       "      <td>Manhattan</td>\n",
       "    </tr>\n",
       "  </tbody>\n",
       "</table>\n",
       "</div>"
      ],
      "text/plain": [
       "   rental_id   rent  bedrooms  bathrooms  size_sqft  min_to_subway  floor  \\\n",
       "0       1545   2550       0.0          1        480              9    2.0   \n",
       "1       2472  11500       2.0          2       2000              4    1.0   \n",
       "2       2919   4500       1.0          1        916              2   51.0   \n",
       "3       2790   4795       1.0          1        975              3    8.0   \n",
       "4       3946  17500       2.0          2       4800              3    4.0   \n",
       "\n",
       "   building_age_yrs  no_fee  has_roofdeck  has_washer_dryer  has_doorman  \\\n",
       "0                17       1             1                 0            0   \n",
       "1                96       0             0                 0            0   \n",
       "2                29       0             1                 0            1   \n",
       "3                31       0             0                 0            1   \n",
       "4               136       0             0                 0            1   \n",
       "\n",
       "   has_elevator  has_dishwasher  has_patio  has_gym       neighborhood  \\\n",
       "0             1               1          0        1    Upper East Side   \n",
       "1             0               0          0        0  Greenwich Village   \n",
       "2             1               1          0        0            Midtown   \n",
       "3             1               1          0        1  Greenwich Village   \n",
       "4             1               1          0        1               Soho   \n",
       "\n",
       "     borough  \n",
       "0  Manhattan  \n",
       "1  Manhattan  \n",
       "2  Manhattan  \n",
       "3  Manhattan  \n",
       "4  Manhattan  "
      ]
     },
     "execution_count": 2,
     "metadata": {},
     "output_type": "execute_result"
    }
   ],
   "source": [
    "df = pd.read_csv('manhattan.csv')\n",
    "df.head()"
   ]
  },
  {
   "cell_type": "markdown",
   "id": "4bdd0932-3316-429b-8f33-4988c8063813",
   "metadata": {},
   "source": [
    "## Analyzing Rent Price in Manhattan"
   ]
  },
  {
   "cell_type": "code",
   "execution_count": 4,
   "id": "a428adfc-133e-4aef-8fc7-a793ca381dd9",
   "metadata": {},
   "outputs": [
    {
     "data": {
      "text/plain": [
       "rental_id             int64\n",
       "rent                  int64\n",
       "bedrooms            float64\n",
       "bathrooms             int64\n",
       "size_sqft             int64\n",
       "min_to_subway         int64\n",
       "floor               float64\n",
       "building_age_yrs      int64\n",
       "no_fee                int64\n",
       "has_roofdeck          int64\n",
       "has_washer_dryer      int64\n",
       "has_doorman           int64\n",
       "has_elevator          int64\n",
       "has_dishwasher        int64\n",
       "has_patio             int64\n",
       "has_gym               int64\n",
       "neighborhood         object\n",
       "borough              object\n",
       "dtype: object"
      ]
     },
     "execution_count": 4,
     "metadata": {},
     "output_type": "execute_result"
    }
   ],
   "source": [
    "df.dtypes"
   ]
  },
  {
   "cell_type": "code",
   "execution_count": 5,
   "id": "fd460a71-1d62-4bb1-890c-2fb98d82d988",
   "metadata": {},
   "outputs": [
    {
     "data": {
      "text/plain": [
       "3539"
      ]
     },
     "execution_count": 5,
     "metadata": {},
     "output_type": "execute_result"
    }
   ],
   "source": [
    "rent_price = df['rent']\n",
    "len(rent_price)"
   ]
  },
  {
   "cell_type": "code",
   "execution_count": 12,
   "id": "a01229fc-a3a1-4d0f-bab7-d4454a78b892",
   "metadata": {},
   "outputs": [
    {
     "name": "stdout",
     "output_type": "stream",
     "text": [
      "Average price of rent : $5138.9403786380335\n",
      "Median price of rent : $4000.0\n",
      "Maximum rental price : $20000\n",
      "Minimum rental price : $1300\n"
     ]
    }
   ],
   "source": [
    "print(f'Average price of rent : ${rent_price.mean()}')\n",
    "print(f'Median price of rent : ${rent_price.median()}')\n",
    "print(f'Maximum rental price : ${rent_price.max()}')\n",
    "print(f'Minimum rental price : ${rent_price.min()}')"
   ]
  },
  {
   "cell_type": "code",
   "execution_count": 19,
   "id": "42c58bfd-e6f3-4349-8dfd-c3f3cb1093c3",
   "metadata": {},
   "outputs": [
    {
     "data": {
      "text/plain": [
       "Text(0.5, 1.0, 'Distribution of Rental Price in Manhattan')"
      ]
     },
     "execution_count": 19,
     "metadata": {},
     "output_type": "execute_result"
    },
    {
     "data": {
      "image/png": "[encoded data removed]",
      "text/plain": [
       "<Figure size 640x480 with 1 Axes>"
      ]
     },
     "metadata": {},
     "output_type": "display_data"
    }
   ],
   "source": [
    "plt.hist(rent_price,bins=50)\n",
    "plt.xlabel('Rental Price')\n",
    "plt.ylabel('Number of Properties for Rental')\n",
    "plt.title('Distribution of Rental Price in Manhattan')"
   ]
  },
  {
   "cell_type": "markdown",
   "id": "3a7945fd-6a5c-4b8b-a4a3-d94857cb9e79",
   "metadata": {},
   "source": [
    "### What proportion of NYC rentals have gym?"
   ]
  },
  {
   "cell_type": "code",
   "execution_count": 30,
   "id": "12bc9d4d-a0f2-457b-82da-47e6130d24ed",
   "metadata": {},
   "outputs": [
    {
     "name": "stdout",
     "output_type": "stream",
     "text": [
      "Number of Rents with gym : 619\n",
      "Proportion of NYC rentals with gym : 0.17490816614862956\n"
     ]
    }
   ],
   "source": [
    "has_gym = df[df.has_gym==1]\n",
    "has_gym[['rent','has_gym']]\n",
    "has_gym_count = len(has_gym)\n",
    "print(f'Number of Rents with gym : {has_gym_count}')\n",
    "print(f'Proportion of NYC rentals with gym : {has_gym_count / len(df)}')"
   ]
  },
  {
   "cell_type": "markdown",
   "id": "9a00e097-b17c-4dd5-8c07-aa6309b29d7b",
   "metadata": {},
   "source": [
    "# Box plot for rent variable"
   ]
  },
  {
   "cell_type": "code",
   "execution_count": 31,
   "id": "4a8cf638-2ebd-42ac-a971-b806817b244e",
   "metadata": {},
   "outputs": [
    {
     "data": {
      "image/png": "[encoded data removed]",
      "text/plain": [
       "<Figure size 640x480 with 1 Axes>"
      ]
     },
     "metadata": {},
     "output_type": "display_data"
    }
   ],
   "source": [
    "sns.boxplot(x='rent', data = df)\n",
    "plt.show()"
   ]
  },
  {
   "cell_type": "markdown",
   "id": "827c15a2-afcd-4487-812a-9b43542868df",
   "metadata": {},
   "source": [
    "## Comparing histograms of rent variable by number of bins"
   ]
  },
  {
   "cell_type": "code",
   "execution_count": 37,
   "id": "e734588b-f0e2-455a-9979-b7c095210bdd",
   "metadata": {},
   "outputs": [
    {
     "data": {
      "image/png": "[encoded data removed]",
      "text/plain": [
       "<Figure size 500x500 with 1 Axes>"
      ]
     },
     "metadata": {},
     "output_type": "display_data"
    }
   ],
   "source": [
    "sns.displot(df.rent, bins=10, kde=False)\n",
    "plt.show()"
   ]
  },
  {
   "cell_type": "code",
   "execution_count": 38,
   "id": "e0d77b36-e5fc-4b70-9050-ccdc99e484e4",
   "metadata": {},
   "outputs": [
    {
     "data": {
      "image/png": "[encoded data removed]",
      "text/plain": [
       "<Figure size 500x500 with 1 Axes>"
      ]
     },
     "metadata": {},
     "output_type": "display_data"
    }
   ],
   "source": [
    "sns.displot(df.rent, bins=50, kde=False)\n",
    "plt.show()"
   ]
  },
  {
   "cell_type": "code",
   "execution_count": 39,
   "id": "78d4eb4b-0fdc-40b5-92ff-ed6f12e15d8c",
   "metadata": {},
   "outputs": [
    {
     "data": {
      "text/plain": [
       "\u001b[0;31mSignature:\u001b[0m\n",
       "\u001b[0msns\u001b[0m\u001b[0;34m.\u001b[0m\u001b[0mdisplot\u001b[0m\u001b[0;34m(\u001b[0m\u001b[0;34m\u001b[0m\n",
       "\u001b[0;34m\u001b[0m    \u001b[0mdata\u001b[0m\u001b[0;34m=\u001b[0m\u001b[0;32mNone\u001b[0m\u001b[0;34m,\u001b[0m\u001b[0;34m\u001b[0m\n",
       "\u001b[0;34m\u001b[0m    \u001b[0;34m*\u001b[0m\u001b[0;34m,\u001b[0m\u001b[0;34m\u001b[0m\n",
       "\u001b[0;34m\u001b[0m    \u001b[0mx\u001b[0m\u001b[0;34m=\u001b[0m\u001b[0;32mNone\u001b[0m\u001b[0;34m,\u001b[0m\u001b[0;34m\u001b[0m\n",
       "\u001b[0;34m\u001b[0m    \u001b[0my\u001b[0m\u001b[0;34m=\u001b[0m\u001b[0;32mNone\u001b[0m\u001b[0;34m,\u001b[0m\u001b[0;34m\u001b[0m\n",
       "\u001b[0;34m\u001b[0m    \u001b[0mhue\u001b[0m\u001b[0;34m=\u001b[0m\u001b[0;32mNone\u001b[0m\u001b[0;34m,\u001b[0m\u001b[0;34m\u001b[0m\n",
       "\u001b[0;34m\u001b[0m    \u001b[0mrow\u001b[0m\u001b[0;34m=\u001b[0m\u001b[0;32mNone\u001b[0m\u001b[0;34m,\u001b[0m\u001b[0;34m\u001b[0m\n",
       "\u001b[0;34m\u001b[0m    \u001b[0mcol\u001b[0m\u001b[0;34m=\u001b[0m\u001b[0;32mNone\u001b[0m\u001b[0;34m,\u001b[0m\u001b[0;34m\u001b[0m\n",
       "\u001b[0;34m\u001b[0m    \u001b[0mweights\u001b[0m\u001b[0;34m=\u001b[0m\u001b[0;32mNone\u001b[0m\u001b[0;34m,\u001b[0m\u001b[0;34m\u001b[0m\n",
       "\u001b[0;34m\u001b[0m    \u001b[0mkind\u001b[0m\u001b[0;34m=\u001b[0m\u001b[0;34m'hist'\u001b[0m\u001b[0;34m,\u001b[0m\u001b[0;34m\u001b[0m\n",
       "\u001b[0;34m\u001b[0m    \u001b[0mrug\u001b[0m\u001b[0;34m=\u001b[0m\u001b[0;32mFalse\u001b[0m\u001b[0;34m,\u001b[0m\u001b[0;34m\u001b[0m\n",
       "\u001b[0;34m\u001b[0m    \u001b[0mrug_kws\u001b[0m\u001b[0;34m=\u001b[0m\u001b[0;32mNone\u001b[0m\u001b[0;34m,\u001b[0m\u001b[0;34m\u001b[0m\n",
       "\u001b[0;34m\u001b[0m    \u001b[0mlog_scale\u001b[0m\u001b[0;34m=\u001b[0m\u001b[0;32mNone\u001b[0m\u001b[0;34m,\u001b[0m\u001b[0;34m\u001b[0m\n",
       "\u001b[0;34m\u001b[0m    \u001b[0mlegend\u001b[0m\u001b[0;34m=\u001b[0m\u001b[0;32mTrue\u001b[0m\u001b[0;34m,\u001b[0m\u001b[0;34m\u001b[0m\n",
       "\u001b[0;34m\u001b[0m    \u001b[0mpalette\u001b[0m\u001b[0;34m=\u001b[0m\u001b[0;32mNone\u001b[0m\u001b[0;34m,\u001b[0m\u001b[0;34m\u001b[0m\n",
       "\u001b[0;34m\u001b[0m    \u001b[0mhue_order\u001b[0m\u001b[0;34m=\u001b[0m\u001b[0;32mNone\u001b[0m\u001b[0;34m,\u001b[0m\u001b[0;34m\u001b[0m\n",
       "\u001b[0;34m\u001b[0m    \u001b[0mhue_norm\u001b[0m\u001b[0;34m=\u001b[0m\u001b[0;32mNone\u001b[0m\u001b[0;34m,\u001b[0m\u001b[0;34m\u001b[0m\n",
       "\u001b[0;34m\u001b[0m    \u001b[0mcolor\u001b[0m\u001b[0;34m=\u001b[0m\u001b[0;32mNone\u001b[0m\u001b[0;34m,\u001b[0m\u001b[0;34m\u001b[0m\n",
       "\u001b[0;34m\u001b[0m    \u001b[0mcol_wrap\u001b[0m\u001b[0;34m=\u001b[0m\u001b[0;32mNone\u001b[0m\u001b[0;34m,\u001b[0m\u001b[0;34m\u001b[0m\n",
       "\u001b[0;34m\u001b[0m    \u001b[0mrow_order\u001b[0m\u001b[0;34m=\u001b[0m\u001b[0;32mNone\u001b[0m\u001b[0;34m,\u001b[0m\u001b[0;34m\u001b[0m\n",
       "\u001b[0;34m\u001b[0m    \u001b[0mcol_order\u001b[0m\u001b[0;34m=\u001b[0m\u001b[0;32mNone\u001b[0m\u001b[0;34m,\u001b[0m\u001b[0;34m\u001b[0m\n",
       "\u001b[0;34m\u001b[0m    \u001b[0mheight\u001b[0m\u001b[0;34m=\u001b[0m\u001b[0;36m5\u001b[0m\u001b[0;34m,\u001b[0m\u001b[0;34m\u001b[0m\n",
       "\u001b[0;34m\u001b[0m    \u001b[0maspect\u001b[0m\u001b[0;34m=\u001b[0m\u001b[0;36m1\u001b[0m\u001b[0;34m,\u001b[0m\u001b[0;34m\u001b[0m\n",
       "\u001b[0;34m\u001b[0m    \u001b[0mfacet_kws\u001b[0m\u001b[0;34m=\u001b[0m\u001b[0;32mNone\u001b[0m\u001b[0;34m,\u001b[0m\u001b[0;34m\u001b[0m\n",
       "\u001b[0;34m\u001b[0m    \u001b[0;34m**\u001b[0m\u001b[0mkwargs\u001b[0m\u001b[0;34m,\u001b[0m\u001b[0;34m\u001b[0m\n",
       "\u001b[0;34m\u001b[0m\u001b[0;34m)\u001b[0m\u001b[0;34m\u001b[0m\u001b[0;34m\u001b[0m\u001b[0m\n",
       "\u001b[0;31mDocstring:\u001b[0m\n",
       "Figure-level interface for drawing distribution plots onto a FacetGrid.\n",
       "\n",
       "This function provides access to several approaches for visualizing the\n",
       "univariate or bivariate distribution of data, including subsets of data\n",
       "defined by semantic mapping and faceting across multiple subplots. The\n",
       "``kind`` parameter selects the approach to use:\n",
       "\n",
       "- :func:`histplot` (with ``kind=\"hist\"``; the default)\n",
       "- :func:`kdeplot` (with ``kind=\"kde\"``)\n",
       "- :func:`ecdfplot` (with ``kind=\"ecdf\"``; univariate-only)\n",
       "\n",
       "Additionally, a :func:`rugplot` can be added to any kind of plot to show\n",
       "individual observations.\n",
       "\n",
       "Extra keyword arguments are passed to the underlying function, so you should\n",
       "refer to the documentation for each to understand the complete set of options\n",
       "for making plots with this interface.\n",
       "\n",
       "See the :doc:`distribution plots tutorial <../tutorial/distributions>` for a more\n",
       "in-depth discussion of the relative strengths and weaknesses of each approach.\n",
       "The distinction between figure-level and axes-level functions is explained\n",
       "further in the :doc:`user guide <../tutorial/function_overview>`.\n",
       "\n",
       "Parameters\n",
       "----------\n",
       "data : :class:`pandas.DataFrame`, :class:`numpy.ndarray`, mapping, or sequence\n",
       "    Input data structure. Either a long-form collection of vectors that can be\n",
       "    assigned to named variables or a wide-form dataset that will be internally\n",
       "    reshaped.\n",
       "x, y : vectors or keys in ``data``\n",
       "    Variables that specify positions on the x and y axes.\n",
       "hue : vector or key in ``data``\n",
       "    Semantic variable that is mapped to determine the color of plot elements.\n",
       "row, col : vectors or keys in ``data``\n",
       "    Variables that define subsets to plot on different facets.    \n",
       "weights : vector or key in ``data``\n",
       "    Observation weights used for computing the distribution function.\n",
       "kind : {\"hist\", \"kde\", \"ecdf\"}\n",
       "    Approach for visualizing the data. Selects the underlying plotting function\n",
       "    and determines the additional set of valid parameters.\n",
       "rug : bool\n",
       "    If True, show each observation with marginal ticks (as in :func:`rugplot`).\n",
       "rug_kws : dict\n",
       "    Parameters to control the appearance of the rug plot.\n",
       "log_scale : bool or number, or pair of bools or numbers\n",
       "    Set axis scale(s) to log. A single value sets the data axis for any numeric\n",
       "    axes in the plot. A pair of values sets each axis independently.\n",
       "    Numeric values are interpreted as the desired base (default 10).\n",
       "    When `None` or `False`, seaborn defers to the existing Axes scale.\n",
       "legend : bool\n",
       "    If False, suppress the legend for semantic variables.\n",
       "palette : string, list, dict, or :class:`matplotlib.colors.Colormap`\n",
       "    Method for choosing the colors to use when mapping the ``hue`` semantic.\n",
       "    String values are passed to :func:`color_palette`. List or dict values\n",
       "    imply categorical mapping, while a colormap object implies numeric mapping.\n",
       "hue_order : vector of strings\n",
       "    Specify the order of processing and plotting for categorical levels of the\n",
       "    ``hue`` semantic.\n",
       "hue_norm : tuple or :class:`matplotlib.colors.Normalize`\n",
       "    Either a pair of values that set the normalization range in data units\n",
       "    or an object that will map from data units into a [0, 1] interval. Usage\n",
       "    implies numeric mapping.\n",
       "color : :mod:`matplotlib color <matplotlib.colors>`\n",
       "    Single color specification for when hue mapping is not used. Otherwise, the\n",
       "    plot will try to hook into the matplotlib property cycle.\n",
       "col_wrap : int\n",
       "    \"Wrap\" the column variable at this width, so that the column facets\n",
       "    span multiple rows. Incompatible with a ``row`` facet.    \n",
       "{row,col}_order : vector of strings\n",
       "    Specify the order in which levels of the ``row`` and/or ``col`` variables\n",
       "    appear in the grid of subplots.    \n",
       "height : scalar\n",
       "    Height (in inches) of each facet. See also: ``aspect``.    \n",
       "aspect : scalar\n",
       "    Aspect ratio of each facet, so that ``aspect * height`` gives the width\n",
       "    of each facet in inches.    \n",
       "facet_kws : dict\n",
       "    Additional parameters passed to :class:`FacetGrid`.\n",
       "\n",
       "kwargs\n",
       "    Other keyword arguments are documented with the relevant axes-level function:\n",
       "\n",
       "    - :func:`histplot` (with ``kind=\"hist\"``)\n",
       "    - :func:`kdeplot` (with ``kind=\"kde\"``)\n",
       "    - :func:`ecdfplot` (with ``kind=\"ecdf\"``)\n",
       "\n",
       "Returns\n",
       "-------\n",
       ":class:`FacetGrid`\n",
       "    An object managing one or more subplots that correspond to conditional data\n",
       "    subsets with convenient methods for batch-setting of axes attributes.\n",
       "\n",
       "See Also\n",
       "--------\n",
       "histplot : Plot a histogram of binned counts with optional normalization or smoothing.\n",
       "kdeplot : Plot univariate or bivariate distributions using kernel density estimation.\n",
       "rugplot : Plot a tick at each observation value along the x and/or y axes.\n",
       "ecdfplot : Plot empirical cumulative distribution functions.\n",
       "jointplot : Draw a bivariate plot with univariate marginal distributions.\n",
       "\n",
       "Examples\n",
       "--------\n",
       "\n",
       "See the API documentation for the axes-level functions for more details\n",
       "about the breadth of options available for each plot kind.\n",
       "\n",
       ".. include:: ../docstrings/displot.rst\n",
       "\u001b[0;31mFile:\u001b[0m      /opt/anaconda3/lib/python3.12/site-packages/seaborn/distributions.py\n",
       "\u001b[0;31mType:\u001b[0m      function"
      ]
     },
     "metadata": {},
     "output_type": "display_data"
    }
   ],
   "source": []
  },
  {
   "cell_type": "code",
   "execution_count": null,
   "id": "3cdd4e65-c229-4ec3-91df-11614bf14aac",
   "metadata": {},
   "outputs": [],
   "source": []
  }
 ],
 "metadata": {
  "kernelspec": {
   "display_name": "Python 3 (ipykernel)",
   "language": "python",
   "name": "python3"
  },
  "language_info": {
   "codemirror_mode": {
    "name": "ipython",
    "version": 3
   },
   "file_extension": ".py",
   "mimetype": "text/x-python",
   "name": "python",
   "nbconvert_exporter": "python",
   "pygments_lexer": "ipython3",
   "version": "3.12.4"
  }
 },
 "nbformat": 4,
 "nbformat_minor": 5
}
