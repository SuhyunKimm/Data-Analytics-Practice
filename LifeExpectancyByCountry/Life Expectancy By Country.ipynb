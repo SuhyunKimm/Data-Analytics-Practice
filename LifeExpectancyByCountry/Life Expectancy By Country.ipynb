{
 "cells": [
  {
   "cell_type": "markdown",
   "id": "0d033e85",
   "metadata": {},
   "source": [
    "# Life Expectancy By Country"
   ]
  },
  {
   "cell_type": "markdown",
   "id": "fd4403be",
   "metadata": {},
   "source": [
    "Over the course of the past few centuries, technological and medical advancements have helped increase the life expectancy of humans. However, as of now, the average life expectancy of humans varies depending on what country you live in.\n",
    "\n",
    "In this project, we will investigate a dataset containing information about the average life expectancy in 158 different countries. We will specifically look at how a country's economic success might impact the life expectancy in that area."
   ]
  },
  {
   "cell_type": "markdown",
   "id": "addfa720",
   "metadata": {},
   "source": [
    "## Access the Data"
   ]
  },
  {
   "cell_type": "markdown",
   "id": "44ba5eb2",
   "metadata": {},
   "source": [
    "1. We've imported a dataset containing the life expectancy in different countries. The data can be found in the variable named `data`.\n",
    "\n",
    "   To begin, let's get a sense of what this data looks like. Print `data.head()` to see the first 5 rows of the dataset.\n",
    "   \n",
    "   Look at the names of the columns. What other pieces of information does this dataset contain?\n",
    "   \n",
    "   You may want to comment out this print statement after looking at the data."
   ]
  },
  {
   "cell_type": "code",
   "execution_count": 7,
   "id": "551cb1ca",
   "metadata": {},
   "outputs": [],
   "source": [
    "import numpy as np\n",
    "import pandas as pd\n",
    "import matplotlib.pyplot as plt\n",
    "\n",
    "data = pd.read_csv(\"country_data.csv\")\n",
    "#data.head()\n",
    "#print((data['Country'].unique())"
   ]
  },
  {
   "cell_type": "markdown",
   "id": "1b0baea2",
   "metadata": {},
   "source": [
    "2. Let's isolate the column that contains the life expectancy and store it in a variable named `life_expectancy`. To get a single column from a Pandas DataFrame, use this syntax:\n",
    "\n",
    "   ```py\n",
    "   single_column = dataFrameName[\"columnName\"]\n",
    "   ```\n",
    "   \n",
    "   Make sure to pay attention to capitalization and spaces when using the column name!"
   ]
  },
  {
   "cell_type": "code",
   "execution_count": 8,
   "id": "817d9a01",
   "metadata": {},
   "outputs": [
    {
     "data": {
      "text/plain": [
       "0      58.19375\n",
       "1      75.15625\n",
       "2      73.61875\n",
       "3      49.01875\n",
       "4      75.05625\n",
       "         ...   \n",
       "153    76.07500\n",
       "154    68.03125\n",
       "155    71.38750\n",
       "156    53.90625\n",
       "157    50.48750\n",
       "Name: Life Expectancy, Length: 158, dtype: float64"
      ]
     },
     "execution_count": 8,
     "metadata": {},
     "output_type": "execute_result"
    }
   ],
   "source": [
    "life_expectancy = data['Life Expectancy']\n",
    "life_expectancy"
   ]
  },
  {
   "cell_type": "markdown",
   "id": "6dbb4fb4",
   "metadata": {},
   "source": [
    "## Find the Quantiles"
   ]
  },
  {
   "cell_type": "markdown",
   "id": "f2bb4419",
   "metadata": {},
   "source": [
    "3. We can now use NumPy functions on that column! Let's use the `np.quantile()` function to find the quartiles of `life_expectancy`. Store the result in a variable named `life_expectancy_quartiles` and print the results."
   ]
  },
  {
   "cell_type": "code",
   "execution_count": 10,
   "id": "132424f2",
   "metadata": {},
   "outputs": [
    {
     "name": "stdout",
     "output_type": "stream",
     "text": [
      "[62.325     72.525     75.4421875]\n"
     ]
    }
   ],
   "source": [
    "life_expectancy_quartiles = np.quantile(life_expectancy, [0.25,0.5,0.75])\n",
    "print(life_expectancy_quartiles)"
   ]
  },
  {
   "cell_type": "markdown",
   "id": "d6b6d31e",
   "metadata": {},
   "source": [
    "4. Nice work! By looking at those three values you can get a sense of the spread of the data. For example, it seems like some of the data is fairly close together &mdash; a quarter of the data is between `72.5` years and `75.4` years.\n",
    "\n",
    "   Could you predict what the histogram might look like from those three numbers? Plot the histogram by using the following two lines of code. Does it look how you expected?\n",
    "   \n",
    "   ```py\n",
    "   plt.hist(life_expectancy)\n",
    "   plt.show()\n",
    "   ```"
   ]
  },
  {
   "cell_type": "code",
   "execution_count": 16,
   "id": "9ae17988",
   "metadata": {},
   "outputs": [
    {
     "data": {
      "image/png": "[encoded data removed]",
      "text/plain": [
       "<Figure size 640x480 with 1 Axes>"
      ]
     },
     "metadata": {},
     "output_type": "display_data"
    }
   ],
   "source": [
    "plt.hist(life_expectancy, edgecolor='black', bins=30, linewidth=0.8)\n",
    "plt.show()"
   ]
  },
  {
   "cell_type": "markdown",
   "id": "be8976cb",
   "metadata": {},
   "source": [
    "5. Let's take a moment to think about the meaning of these quartiles. If your country has a life expectancy of `70` years, does that fall in the first, second, third, or final quarter of the data?\n",
    "\n",
    "   Answer : second quarter"
   ]
  },
  {
   "cell_type": "markdown",
   "id": "dc83db64",
   "metadata": {},
   "source": [
    "## Splitting the Data by GDP"
   ]
  },
  {
   "cell_type": "markdown",
   "id": "4dab91c1",
   "metadata": {},
   "source": [
    "6. GDP is a measure of a country's wealth. Let's now use the GDP data to see if life expectancy is affected by this value.\n",
    "\n",
    "   Let's split the data into two groups based on GDP. If we find the median GDP, we can create two datasets for \"low GDP countries\" and \"high GDP countries\".\n",
    "   \n",
    "   To start, let's isolate the GDP column and store it in a variable named `gdp`. This should be similar to how you isolated the life expectancy column."
   ]
  },
  {
   "cell_type": "code",
   "execution_count": 18,
   "id": "fa544862",
   "metadata": {},
   "outputs": [
    {
     "data": {
      "text/plain": [
       "0       340.015425\n",
       "1      2119.726679\n",
       "2      2847.853392\n",
       "3      1975.143045\n",
       "4      9759.305728\n",
       "          ...     \n",
       "153    7192.584875\n",
       "154     651.092359\n",
       "155    2000.245518\n",
       "156     811.811841\n",
       "157     410.980194\n",
       "Name: GDP, Length: 158, dtype: float64"
      ]
     },
     "execution_count": 18,
     "metadata": {},
     "output_type": "execute_result"
    }
   ],
   "source": [
    "gdp = data['GDP']\n",
    "gdp"
   ]
  },
  {
   "cell_type": "markdown",
   "id": "cc7e433e",
   "metadata": {},
   "source": [
    "7. We now want to find the median GDP. You can use NumPy's `np.median()` function, but since the median is also a quantile, we can call `np.quantile()` using `0.5` as the second parameter.\n",
    "\n",
    "   Store the median in a variable named `median_gdp`. Print that variable to see the median."
   ]
  },
  {
   "cell_type": "code",
   "execution_count": 21,
   "id": "1a3e21b3",
   "metadata": {},
   "outputs": [
    {
     "name": "stdout",
     "output_type": "stream",
     "text": [
      "2938.0781155 2938.0781155\n"
     ]
    }
   ],
   "source": [
    "median_gdp = np.median(gdp)\n",
    "median_gdp_by_quantile = np.quantile(gdp, 0.5)\n",
    "print(median_gdp, median_gdp_by_quantile)"
   ]
  },
  {
   "cell_type": "markdown",
   "id": "7581520c",
   "metadata": {},
   "source": [
    "8. Let's now grab all of the rows from our original dataset that have a GDP less than or equal to the median. The following code will do that for you:\n",
    "\n",
    "   ```py\n",
    "   low_gdp = data[data['GDP'] <= median_gdp]\n",
    "   ```\n",
    "   \n",
    "   Do the same for all of the rows that have a GDP higher than the median. Store those rows in a variable named `high_gdp`.\n",
    "   \n",
    "   The line of code should look almost identical to the one above, but you should change the `<=` to `>`.\n",
    "   \n",
    "   Remember to change the name of the variable!"
   ]
  },
  {
   "cell_type": "code",
   "execution_count": 22,
   "id": "12067c34",
   "metadata": {},
   "outputs": [],
   "source": [
    "low_gdp = data[data['GDP'] <= median_gdp]\n",
    "high_gdp = data[data['GDP'] > median_gdp]"
   ]
  },
  {
   "cell_type": "markdown",
   "id": "26ad7103",
   "metadata": {},
   "source": [
    "9. Now that we've split the data based on the GDP, let's see how the life expectancy of each group compares to each other.\n",
    "\n",
    "   Find the quartiles of the `\"Life Expectancy\"` column of `low_gdp`. Store the quartiles in a variable named `low_gdp_quartiles`. Print the results."
   ]
  },
  {
   "cell_type": "code",
   "execution_count": 24,
   "id": "4a06ada2",
   "metadata": {},
   "outputs": [
    {
     "name": "stdout",
     "output_type": "stream",
     "text": [
      "[56.3375  64.34375 71.7375 ]\n"
     ]
    }
   ],
   "source": [
    "low_gdp_quartiles = np.quantile(low_gdp['Life Expectancy'], [0.25, 0.5, 0.75])\n",
    "print(low_gdp_quartiles)"
   ]
  },
  {
   "cell_type": "markdown",
   "id": "e900d679",
   "metadata": {},
   "source": [
    "10. Find the quartiles of the high GDP countries and store them in a variable named `high_gdp_quartiles`. This should look very similar to the last line of code you wrote. Print the results."
   ]
  },
  {
   "cell_type": "code",
   "execution_count": 25,
   "id": "091c76c9",
   "metadata": {},
   "outputs": [
    {
     "name": "stdout",
     "output_type": "stream",
     "text": [
      "[72.965625 75.15625  80.521875]\n"
     ]
    }
   ],
   "source": [
    "high_gdp_quartiles = np.quantile(high_gdp['Life Expectancy'], [0.25, 0.5, 0.75])\n",
    "print(high_gdp_quartiles)"
   ]
  },
  {
   "cell_type": "markdown",
   "id": "5fbc2a78",
   "metadata": {},
   "source": [
    "## Histogram and Conclusions"
   ]
  },
  {
   "cell_type": "markdown",
   "id": "f3472ae2",
   "metadata": {},
   "source": [
    "11. By looking at the quantiles, you should get a sense of the spread and central tendency of these two datasets. But let's plot a histogram of each dataset to really compare them.\n",
    "\n",
    "    At the bottom of your code, add these four lines:\n",
    "    ```py\n",
    "    plt.hist(high_gdp[\"Life Expectancy\"], alpha = 0.5, label = \"High GDP\")\n",
    "    plt.hist(low_gdp[\"Life Expectancy\"], alpha = 0.5, label = \"Low GDP\")\n",
    "    plt.legend()\n",
    "    plt.show()\n",
    "    ```"
   ]
  },
  {
   "cell_type": "code",
   "execution_count": 26,
   "id": "87077d84",
   "metadata": {},
   "outputs": [
    {
     "data": {
      "image/png": "[encoded data removed]",
      "text/plain": [
       "<Figure size 640x480 with 1 Axes>"
      ]
     },
     "metadata": {},
     "output_type": "display_data"
    }
   ],
   "source": [
    "plt.hist(high_gdp[\"Life Expectancy\"], alpha = 0.5, label = \"High GDP\")\n",
    "plt.hist(low_gdp[\"Life Expectancy\"], alpha = 0.5, label = \"Low GDP\")\n",
    "plt.legend()\n",
    "plt.show()"
   ]
  },
  {
   "cell_type": "markdown",
   "id": "2903763d",
   "metadata": {},
   "source": [
    "12. We can now truly see the impact GDP has on life expectancy.\n",
    "\n",
    "    Once again, consider a country that has a life expectancy of `70` years. If that country is in the top half of GDP countries, is it in the first, second, third, or fourth quarter of the data with respect to life expectancy? What if the country is in the bottom half of the countries? View **Life Expectancy By Country_Solution.ipynb** to see our thoughts."
   ]
  },
  {
   "cell_type": "code",
   "execution_count": 27,
   "id": "23367b69",
   "metadata": {},
   "outputs": [
    {
     "name": "stdout",
     "output_type": "stream",
     "text": [
      "Answer : It is in the first quartile of the top half of GDP countries and the third quartile of the bottom half of the countries\n"
     ]
    }
   ],
   "source": [
    "print('Answer : It is in the first quartile of the top half of GDP countries and the third quartile of the bottom half of the countries')"
   ]
  },
  {
   "cell_type": "code",
   "execution_count": null,
   "id": "1f137076-7523-46ff-a424-ea0de67c5348",
   "metadata": {},
   "outputs": [],
   "source": []
  }
 ],
 "metadata": {
  "kernelspec": {
   "display_name": "Python 3 (ipykernel)",
   "language": "python",
   "name": "python3"
  },
  "language_info": {
   "codemirror_mode": {
    "name": "ipython",
    "version": 3
   },
   "file_extension": ".py",
   "mimetype": "text/x-python",
   "name": "python",
   "nbconvert_exporter": "python",
   "pygments_lexer": "ipython3",
   "version": "3.12.4"
  }
 },
 "nbformat": 4,
 "nbformat_minor": 5
}
