{
 "cells": [
  {
   "cell_type": "code",
   "execution_count": 1,
   "id": "4831ef56-5d0f-47d6-8e9a-4e005ad6dbdd",
   "metadata": {},
   "outputs": [
    {
     "data": {
      "text/html": [
       "<div>\n",
       "<style scoped>\n",
       "    .dataframe tbody tr th:only-of-type {\n",
       "        vertical-align: middle;\n",
       "    }\n",
       "\n",
       "    .dataframe tbody tr th {\n",
       "        vertical-align: top;\n",
       "    }\n",
       "\n",
       "    .dataframe thead th {\n",
       "        text-align: right;\n",
       "    }\n",
       "</style>\n",
       "<table border=\"1\" class=\"dataframe\">\n",
       "  <thead>\n",
       "    <tr style=\"text-align: right;\">\n",
       "      <th></th>\n",
       "      <th>CAMIS</th>\n",
       "      <th>DBA</th>\n",
       "      <th>BORO</th>\n",
       "      <th>BUILDING</th>\n",
       "      <th>STREET</th>\n",
       "      <th>ZIPCODE</th>\n",
       "      <th>PHONE</th>\n",
       "      <th>CUISINE DESCRIPTION</th>\n",
       "      <th>INSPECTION DATE</th>\n",
       "      <th>ACTION</th>\n",
       "      <th>...</th>\n",
       "      <th>INSPECTION TYPE</th>\n",
       "      <th>Latitude</th>\n",
       "      <th>Longitude</th>\n",
       "      <th>Community Board</th>\n",
       "      <th>Council District</th>\n",
       "      <th>Census Tract</th>\n",
       "      <th>BIN</th>\n",
       "      <th>BBL</th>\n",
       "      <th>NTA</th>\n",
       "      <th>Location Point1</th>\n",
       "    </tr>\n",
       "  </thead>\n",
       "  <tbody>\n",
       "    <tr>\n",
       "      <th>0</th>\n",
       "      <td>50156172</td>\n",
       "      <td>JIMMY'S</td>\n",
       "      <td>Bronx</td>\n",
       "      <td>1161</td>\n",
       "      <td>CASTLE HILL AVENUE</td>\n",
       "      <td>10462.0</td>\n",
       "      <td>6469152219</td>\n",
       "      <td>NaN</td>\n",
       "      <td>01/01/1900</td>\n",
       "      <td>NaN</td>\n",
       "      <td>...</td>\n",
       "      <td>NaN</td>\n",
       "      <td>40.831312</td>\n",
       "      <td>-73.850906</td>\n",
       "      <td>209.0</td>\n",
       "      <td>18.0</td>\n",
       "      <td>9200.0</td>\n",
       "      <td>2026489.0</td>\n",
       "      <td>2.038110e+09</td>\n",
       "      <td>BX59</td>\n",
       "      <td>NaN</td>\n",
       "    </tr>\n",
       "    <tr>\n",
       "      <th>1</th>\n",
       "      <td>50141153</td>\n",
       "      <td>MERAKI GREEK BISTRO</td>\n",
       "      <td>Brooklyn</td>\n",
       "      <td>252</td>\n",
       "      <td>GRAND STREET</td>\n",
       "      <td>11211.0</td>\n",
       "      <td>7185763536</td>\n",
       "      <td>NaN</td>\n",
       "      <td>01/01/1900</td>\n",
       "      <td>NaN</td>\n",
       "      <td>...</td>\n",
       "      <td>NaN</td>\n",
       "      <td>40.713489</td>\n",
       "      <td>-73.958842</td>\n",
       "      <td>301.0</td>\n",
       "      <td>34.0</td>\n",
       "      <td>52300.0</td>\n",
       "      <td>3062812.0</td>\n",
       "      <td>3.023940e+09</td>\n",
       "      <td>BK73</td>\n",
       "      <td>NaN</td>\n",
       "    </tr>\n",
       "    <tr>\n",
       "      <th>2</th>\n",
       "      <td>50154367</td>\n",
       "      <td>NaN</td>\n",
       "      <td>Manhattan</td>\n",
       "      <td>161</td>\n",
       "      <td>WEST   23 STREET</td>\n",
       "      <td>10011.0</td>\n",
       "      <td>5168526952</td>\n",
       "      <td>NaN</td>\n",
       "      <td>01/01/1900</td>\n",
       "      <td>NaN</td>\n",
       "      <td>...</td>\n",
       "      <td>NaN</td>\n",
       "      <td>40.743598</td>\n",
       "      <td>-73.994442</td>\n",
       "      <td>104.0</td>\n",
       "      <td>3.0</td>\n",
       "      <td>9100.0</td>\n",
       "      <td>1014946.0</td>\n",
       "      <td>1.007990e+09</td>\n",
       "      <td>MN13</td>\n",
       "      <td>NaN</td>\n",
       "    </tr>\n",
       "    <tr>\n",
       "      <th>3</th>\n",
       "      <td>50150136</td>\n",
       "      <td>GREEK XPRESS</td>\n",
       "      <td>0</td>\n",
       "      <td>NaN</td>\n",
       "      <td>NaN</td>\n",
       "      <td>NaN</td>\n",
       "      <td>3477015000</td>\n",
       "      <td>NaN</td>\n",
       "      <td>01/01/1900</td>\n",
       "      <td>NaN</td>\n",
       "      <td>...</td>\n",
       "      <td>NaN</td>\n",
       "      <td>NaN</td>\n",
       "      <td>NaN</td>\n",
       "      <td>NaN</td>\n",
       "      <td>NaN</td>\n",
       "      <td>NaN</td>\n",
       "      <td>NaN</td>\n",
       "      <td>NaN</td>\n",
       "      <td>NaN</td>\n",
       "      <td>NaN</td>\n",
       "    </tr>\n",
       "    <tr>\n",
       "      <th>4</th>\n",
       "      <td>50151144</td>\n",
       "      <td>ELSEWHERE</td>\n",
       "      <td>Brooklyn</td>\n",
       "      <td>599</td>\n",
       "      <td>JOHNSON AVENUE</td>\n",
       "      <td>11237.0</td>\n",
       "      <td>7037322765</td>\n",
       "      <td>NaN</td>\n",
       "      <td>01/01/1900</td>\n",
       "      <td>NaN</td>\n",
       "      <td>...</td>\n",
       "      <td>NaN</td>\n",
       "      <td>40.709219</td>\n",
       "      <td>-73.923219</td>\n",
       "      <td>301.0</td>\n",
       "      <td>34.0</td>\n",
       "      <td>44900.0</td>\n",
       "      <td>3070596.0</td>\n",
       "      <td>3.029890e+09</td>\n",
       "      <td>BK90</td>\n",
       "      <td>NaN</td>\n",
       "    </tr>\n",
       "  </tbody>\n",
       "</table>\n",
       "<p>5 rows × 27 columns</p>\n",
       "</div>"
      ],
      "text/plain": [
       "      CAMIS                  DBA       BORO BUILDING              STREET  \\\n",
       "0  50156172              JIMMY'S      Bronx     1161  CASTLE HILL AVENUE   \n",
       "1  50141153  MERAKI GREEK BISTRO   Brooklyn      252        GRAND STREET   \n",
       "2  50154367                  NaN  Manhattan      161    WEST   23 STREET   \n",
       "3  50150136         GREEK XPRESS          0      NaN                 NaN   \n",
       "4  50151144            ELSEWHERE   Brooklyn      599      JOHNSON AVENUE   \n",
       "\n",
       "   ZIPCODE       PHONE CUISINE DESCRIPTION INSPECTION DATE ACTION  ...  \\\n",
       "0  10462.0  6469152219                 NaN      01/01/1900    NaN  ...   \n",
       "1  11211.0  7185763536                 NaN      01/01/1900    NaN  ...   \n",
       "2  10011.0  5168526952                 NaN      01/01/1900    NaN  ...   \n",
       "3      NaN  3477015000                 NaN      01/01/1900    NaN  ...   \n",
       "4  11237.0  7037322765                 NaN      01/01/1900    NaN  ...   \n",
       "\n",
       "  INSPECTION TYPE   Latitude  Longitude  Community Board Council District  \\\n",
       "0             NaN  40.831312 -73.850906            209.0             18.0   \n",
       "1             NaN  40.713489 -73.958842            301.0             34.0   \n",
       "2             NaN  40.743598 -73.994442            104.0              3.0   \n",
       "3             NaN        NaN        NaN              NaN              NaN   \n",
       "4             NaN  40.709219 -73.923219            301.0             34.0   \n",
       "\n",
       "  Census Tract        BIN           BBL   NTA  Location Point1  \n",
       "0       9200.0  2026489.0  2.038110e+09  BX59              NaN  \n",
       "1      52300.0  3062812.0  3.023940e+09  BK73              NaN  \n",
       "2       9100.0  1014946.0  1.007990e+09  MN13              NaN  \n",
       "3          NaN        NaN           NaN   NaN              NaN  \n",
       "4      44900.0  3070596.0  3.029890e+09  BK90              NaN  \n",
       "\n",
       "[5 rows x 27 columns]"
      ]
     },
     "execution_count": 1,
     "metadata": {},
     "output_type": "execute_result"
    }
   ],
   "source": [
    "import pandas as pd\n",
    "import numpy as np\n",
    "import seaborn as sns\n",
    "import matplotlib.pyplot as plt\n",
    "\n",
    "df = pd.read_csv('DOHMH_New_York_City_Restaurant_Inspection_Results.csv')\n",
    "df.head()"
   ]
  },
  {
   "cell_type": "code",
   "execution_count": 2,
   "id": "25042ea5-a5af-4c73-bf19-c5a00c157f66",
   "metadata": {},
   "outputs": [
    {
     "name": "stdout",
     "output_type": "stream",
     "text": [
      "(242174, 27)\n"
     ]
    }
   ],
   "source": [
    "print(df.shape)"
   ]
  },
  {
   "cell_type": "code",
   "execution_count": 3,
   "id": "77bde624-eb04-418d-aa93-47f1ebd83e3a",
   "metadata": {},
   "outputs": [
    {
     "name": "stdout",
     "output_type": "stream",
     "text": [
      "      CAMIS                       DBA       BORO BUILDING              STREET  \\\n",
      "0  50156172                   JIMMY'S      Bronx     1161  CASTLE HILL AVENUE   \n",
      "1  50141153       MERAKI GREEK BISTRO   Brooklyn      252        GRAND STREET   \n",
      "2  50154367                       NaN  Manhattan      161    WEST   23 STREET   \n",
      "3  50150136              GREEK XPRESS          0      NaN                 NaN   \n",
      "4  50151144                 ELSEWHERE   Brooklyn      599      JOHNSON AVENUE   \n",
      "5  50150939                       NaN   Brooklyn     1106            8 AVENUE   \n",
      "6  50109363       CHEF KATSU BROOKLYN   Brooklyn      143       GREENE AVENUE   \n",
      "7  50144229  STC CARIBBEAN RESTAURANT   Brooklyn      116     KINGSTON AVENUE   \n",
      "8  50148923                WE JUICING     Queens     9238   GUY R BREWER BLVD   \n",
      "9  50149087           KIBO SUSHI - NY  Manhattan      750            8 AVENUE   \n",
      "\n",
      "   ZIPCODE       PHONE CUISINE DESCRIPTION INSPECTION DATE ACTION  ...  \\\n",
      "0  10462.0  6469152219                 NaN      01/01/1900    NaN  ...   \n",
      "1  11211.0  7185763536                 NaN      01/01/1900    NaN  ...   \n",
      "2  10011.0  5168526952                 NaN      01/01/1900    NaN  ...   \n",
      "3      NaN  3477015000                 NaN      01/01/1900    NaN  ...   \n",
      "4  11237.0  7037322765                 NaN      01/01/1900    NaN  ...   \n",
      "5  11215.0  3474587806                 NaN      01/01/1900    NaN  ...   \n",
      "6  11238.0  9178337789                 NaN      01/01/1900    NaN  ...   \n",
      "7  11213.0  5168197766                 NaN      01/01/1900    NaN  ...   \n",
      "8  11433.0  9177709055                 NaN      01/01/1900    NaN  ...   \n",
      "9  10036.0  6472781943                 NaN      01/01/1900    NaN  ...   \n",
      "\n",
      "  INSPECTION TYPE   Latitude  Longitude  Community Board Council District  \\\n",
      "0             NaN  40.831312 -73.850906            209.0             18.0   \n",
      "1             NaN  40.713489 -73.958842            301.0             34.0   \n",
      "2             NaN  40.743598 -73.994442            104.0              3.0   \n",
      "3             NaN        NaN        NaN              NaN              NaN   \n",
      "4             NaN  40.709219 -73.923219            301.0             34.0   \n",
      "5             NaN  40.664432 -73.980326            306.0             39.0   \n",
      "6             NaN  40.686653 -73.966308            302.0             35.0   \n",
      "7             NaN  40.675801 -73.941604            308.0             36.0   \n",
      "8             NaN  40.703813 -73.796468            412.0             27.0   \n",
      "9             NaN  40.759871 -73.987850            105.0              3.0   \n",
      "\n",
      "  Census Tract        BIN           BBL   NTA  Location Point1  \n",
      "0       9200.0  2026489.0  2.038110e+09  BX59              NaN  \n",
      "1      52300.0  3062812.0  3.023940e+09  BK73              NaN  \n",
      "2       9100.0  1014946.0  1.007990e+09  MN13              NaN  \n",
      "3          NaN        NaN           NaN   NaN              NaN  \n",
      "4      44900.0  3070596.0  3.029890e+09  BK90              NaN  \n",
      "5      15100.0  3427281.0  3.010960e+09  BK37              NaN  \n",
      "6      19700.0  3055504.0  3.019450e+09  BK69              NaN  \n",
      "7      31300.0  3030484.0  3.012150e+09  BK61              NaN  \n",
      "8      44601.0  4438733.0  4.101020e+09  QN61              NaN  \n",
      "9      12500.0  1024736.0  1.010188e+09  MN17              NaN  \n",
      "\n",
      "[10 rows x 27 columns]\n"
     ]
    }
   ],
   "source": [
    "# Remove duplicates\n",
    "df = df.drop_duplicates()\n",
    "print(df.head(10))"
   ]
  },
  {
   "cell_type": "code",
   "execution_count": 4,
   "id": "10a88242-ed22-41de-a729-171a05e7debe",
   "metadata": {},
   "outputs": [
    {
     "name": "stdout",
     "output_type": "stream",
     "text": [
      "(242168, 27)\n"
     ]
    }
   ],
   "source": [
    "print(df.shape)"
   ]
  },
  {
   "cell_type": "code",
   "execution_count": 5,
   "id": "c967c485-e044-4709-a77e-f0fdd4e3d5ce",
   "metadata": {},
   "outputs": [
    {
     "name": "stdout",
     "output_type": "stream",
     "text": [
      "Index(['camis', 'dba', 'boro', 'building', 'street', 'zipcode', 'phone',\n",
      "       'cuisine description', 'inspection date', 'action', 'violation code',\n",
      "       'violation description', 'critical flag', 'score', 'grade',\n",
      "       'grade date', 'record date', 'inspection type', 'latitude', 'longitude',\n",
      "       'community board', 'council district', 'census tract', 'bin', 'bbl',\n",
      "       'nta', 'location point1'],\n",
      "      dtype='object')\n"
     ]
    }
   ],
   "source": [
    "# Change column names to lowercase for consistency\n",
    "df.columns=map(str.lower, df.columns)\n",
    "print(df.columns)"
   ]
  },
  {
   "cell_type": "code",
   "execution_count": 6,
   "id": "10519ee6-e028-4a2f-bafa-35adc306e44d",
   "metadata": {},
   "outputs": [
    {
     "name": "stdout",
     "output_type": "stream",
     "text": [
      "Index(['camis', 'name', 'boro', 'building', 'street', 'zipcode', 'phone',\n",
      "       'cuisine', 'inspection date', 'action', 'violation code',\n",
      "       'violation description', 'critical flag', 'score', 'grade',\n",
      "       'grade date', 'record date', 'inspection type', 'latitude', 'longitude',\n",
      "       'community board', 'council district', 'census tract', 'bin', 'bbl',\n",
      "       'nta', 'location point1'],\n",
      "      dtype='object')\n"
     ]
    }
   ],
   "source": [
    "# Change column names to more understandable names\n",
    "df=df.rename(columns={'dba' : 'name', 'cuisine description' : 'cuisine'})\n",
    "print(df.columns)"
   ]
  },
  {
   "cell_type": "code",
   "execution_count": 7,
   "id": "685dd104-68c7-409a-8600-c0b3d6f333da",
   "metadata": {},
   "outputs": [
    {
     "data": {
      "text/plain": [
       "camis                      int64\n",
       "name                      object\n",
       "boro                      object\n",
       "building                  object\n",
       "street                    object\n",
       "zipcode                  float64\n",
       "phone                     object\n",
       "cuisine                   object\n",
       "inspection date           object\n",
       "action                    object\n",
       "violation code            object\n",
       "violation description     object\n",
       "critical flag             object\n",
       "score                    float64\n",
       "grade                     object\n",
       "grade date                object\n",
       "record date               object\n",
       "inspection type           object\n",
       "latitude                 float64\n",
       "longitude                float64\n",
       "community board          float64\n",
       "council district         float64\n",
       "census tract             float64\n",
       "bin                      float64\n",
       "bbl                      float64\n",
       "nta                       object\n",
       "location point1          float64\n",
       "dtype: object"
      ]
     },
     "execution_count": 7,
     "metadata": {},
     "output_type": "execute_result"
    }
   ],
   "source": [
    "df.dtypes"
   ]
  },
  {
   "cell_type": "code",
   "execution_count": 8,
   "id": "55b5b5a1-3ace-4b3d-9400-f7747b5a3909",
   "metadata": {},
   "outputs": [
    {
     "data": {
      "text/plain": [
       "camis                    29120\n",
       "name                     22484\n",
       "boro                         6\n",
       "building                  7588\n",
       "street                    2402\n",
       "zipcode                    228\n",
       "phone                    26177\n",
       "cuisine                     89\n",
       "inspection date           1741\n",
       "action                       5\n",
       "violation code             143\n",
       "violation description      221\n",
       "critical flag                3\n",
       "score                      134\n",
       "grade                        6\n",
       "grade date                1515\n",
       "record date                  1\n",
       "inspection type             31\n",
       "latitude                 23568\n",
       "longitude                23568\n",
       "community board             69\n",
       "council district            51\n",
       "census tract              1178\n",
       "bin                      20377\n",
       "bbl                      20074\n",
       "nta                        193\n",
       "location point1              0\n",
       "dtype: int64"
      ]
     },
     "execution_count": 8,
     "metadata": {},
     "output_type": "execute_result"
    }
   ],
   "source": [
    "df.nunique()"
   ]
  },
  {
   "cell_type": "code",
   "execution_count": 9,
   "id": "f8d7c707-1ca2-4124-badf-72009454ae28",
   "metadata": {},
   "outputs": [
    {
     "data": {
      "text/plain": [
       "camis                         0\n",
       "name                        847\n",
       "boro                          0\n",
       "building                    410\n",
       "street                       14\n",
       "zipcode                    2821\n",
       "phone                         3\n",
       "cuisine                    2795\n",
       "inspection date               0\n",
       "action                     2795\n",
       "violation code             4123\n",
       "violation description      4123\n",
       "critical flag                 0\n",
       "score                     11956\n",
       "grade                    125705\n",
       "grade date               134472\n",
       "record date                   0\n",
       "inspection type            2795\n",
       "latitude                    337\n",
       "longitude                   337\n",
       "community board            3475\n",
       "council district           3479\n",
       "census tract               3479\n",
       "bin                        4681\n",
       "bbl                         668\n",
       "nta                        3475\n",
       "location point1          242168\n",
       "dtype: int64"
      ]
     },
     "execution_count": 9,
     "metadata": {},
     "output_type": "execute_result"
    }
   ],
   "source": [
    "df.isna().sum()"
   ]
  },
  {
   "cell_type": "code",
   "execution_count": 10,
   "id": "b7c2bede-5f45-479e-915d-3ae7faad085f",
   "metadata": {},
   "outputs": [
    {
     "data": {
      "text/plain": [
       "camis                         0\n",
       "name                        847\n",
       "boro                          0\n",
       "building                    410\n",
       "street                       14\n",
       "zipcode                    2821\n",
       "phone                         3\n",
       "cuisine                    2795\n",
       "inspection date               0\n",
       "action                     2795\n",
       "violation code             4123\n",
       "violation description      4123\n",
       "critical flag                 0\n",
       "score                     11956\n",
       "grade                    125705\n",
       "grade date               134472\n",
       "record date                   0\n",
       "inspection type            2795\n",
       "latitude                   3144\n",
       "longitude                  3144\n",
       "community board            3475\n",
       "council district           3479\n",
       "census tract               3479\n",
       "bin                        4681\n",
       "bbl                         668\n",
       "nta                        3475\n",
       "location point1          242168\n",
       "dtype: int64"
      ]
     },
     "execution_count": 10,
     "metadata": {},
     "output_type": "execute_result"
    }
   ],
   "source": [
    "df['latitude']=df['latitude'].where(df['latitude'] >= 40, np.nan)\n",
    "df['longitude']=df['longitude'].where(df['longitude'] <= -70, np.nan)\n",
    "\n",
    "df.isna().sum()"
   ]
  },
  {
   "cell_type": "code",
   "execution_count": null,
   "id": "64468032-1e6f-4b54-a5b9-000c19591c20",
   "metadata": {},
   "outputs": [],
   "source": []
  }
 ],
 "metadata": {
  "kernelspec": {
   "display_name": "Python 3 (ipykernel)",
   "language": "python",
   "name": "python3"
  },
  "language_info": {
   "codemirror_mode": {
    "name": "ipython",
    "version": 3
   },
   "file_extension": ".py",
   "mimetype": "text/x-python",
   "name": "python",
   "nbconvert_exporter": "python",
   "pygments_lexer": "ipython3",
   "version": "3.12.4"
  }
 },
 "nbformat": 4,
 "nbformat_minor": 5
}
