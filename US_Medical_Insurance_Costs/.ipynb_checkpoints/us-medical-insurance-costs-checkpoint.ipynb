{
 "cells": [
  {
   "cell_type": "markdown",
   "metadata": {},
   "source": [
    "# U.S. Medical Insurance Costs"
   ]
  },
  {
   "cell_type": "code",
   "execution_count": 1,
   "metadata": {},
   "outputs": [],
   "source": [
    "# This project is investigating the U.S. medical insurance costs using csv file and python."
   ]
  },
  {
   "cell_type": "code",
   "execution_count": 2,
   "metadata": {},
   "outputs": [],
   "source": [
    "# import modules\n",
    "import pandas as pd\n"
   ]
  },
  {
   "cell_type": "code",
   "execution_count": 3,
   "metadata": {},
   "outputs": [
    {
     "name": "stdout",
     "output_type": "stream",
     "text": [
      "      age     sex     bmi  children smoker     region      charges\n",
      "0      19  female  27.900         0    yes  southwest  16884.92400\n",
      "1      18    male  33.770         1     no  southeast   1725.55230\n",
      "2      28    male  33.000         3     no  southeast   4449.46200\n",
      "3      33    male  22.705         0     no  northwest  21984.47061\n",
      "4      32    male  28.880         0     no  northwest   3866.85520\n",
      "...   ...     ...     ...       ...    ...        ...          ...\n",
      "1333   50    male  30.970         3     no  northwest  10600.54830\n",
      "1334   18  female  31.920         0     no  northeast   2205.98080\n",
      "1335   18  female  36.850         0     no  southeast   1629.83350\n",
      "1336   21  female  25.800         0     no  southwest   2007.94500\n",
      "1337   61  female  29.070         0    yes  northwest  29141.36030\n",
      "\n",
      "[1338 rows x 7 columns]\n"
     ]
    }
   ],
   "source": [
    "df = pd.read_csv('insurance.csv')\n",
    "\n",
    "print(df) "
   ]
  },
  {
   "cell_type": "code",
   "execution_count": 4,
   "metadata": {},
   "outputs": [
    {
     "name": "stdout",
     "output_type": "stream",
     "text": [
      "age           int64\n",
      "sex          object\n",
      "bmi         float64\n",
      "children      int64\n",
      "smoker       object\n",
      "region       object\n",
      "charges     float64\n",
      "dtype: object\n"
     ]
    }
   ],
   "source": [
    "# Check data type of each column datas\n",
    "print(df.dtypes)"
   ]
  },
  {
   "cell_type": "code",
   "execution_count": 5,
   "metadata": {},
   "outputs": [],
   "source": [
    "# Save data in python\n",
    "# Make variables to save each column data\n",
    "class Patient :\n",
    "    def __init__(self, age, sex, bmi, children, smoker, region, charges) :\n",
    "        self.age = age\n",
    "        self.sex = str(sex)\n",
    "        self.bmi = bmi\n",
    "        self.children = children\n",
    "        self.smoker = smoker\n",
    "        self.region = str(region)\n",
    "        self.charges = charges\n",
    "    \n",
    "    def changeToBooleanSmoker(self) :\n",
    "        if self.smoker == 'yes' :\n",
    "            self.smoker = True\n",
    "        else :\n",
    "            self.smoker = False"
   ]
  },
  {
   "cell_type": "code",
   "execution_count": 6,
   "metadata": {},
   "outputs": [
    {
     "name": "stdout",
     "output_type": "stream",
     "text": [
      "1338\n"
     ]
    }
   ],
   "source": [
    "# Save patient's data for each row to Patient type array 'patients'\n",
    "patients = []\n",
    "\n",
    "for i in range(len(df)) :\n",
    "    row = df.iloc[i]\n",
    "    patient = Patient(row[0], row[1], row[2], row[3], row[4], row[5], row[6])\n",
    "    patient.changeToBooleanSmoker()\n",
    "    patients.append(patient)\n",
    "    \n",
    "print(len(patients))"
   ]
  },
  {
   "cell_type": "code",
   "execution_count": 7,
   "metadata": {},
   "outputs": [
    {
     "name": "stdout",
     "output_type": "stream",
     "text": [
      "12569.578843835347\n",
      "13956.751177721893\n"
     ]
    }
   ],
   "source": [
    "# compare average cost between women and men\n",
    "women = df[df['sex'] == 'female']\n",
    "men = df[df['sex'] == 'male']\n",
    "women_charges_average = women['charges'].mean()\n",
    "men_charges_average = men['charges'].mean()\n",
    "\n",
    "print(women_charges_average)\n",
    "print(men_charges_average)"
   ]
  },
  {
   "cell_type": "code",
   "execution_count": 8,
   "metadata": {},
   "outputs": [
    {
     "name": "stdout",
     "output_type": "stream",
     "text": [
      "32050.23183153284\n",
      "8434.268297856204\n"
     ]
    }
   ],
   "source": [
    "# compare average cost between somker and non-smoker\n",
    "smoker = df[df['smoker'] == 'yes']\n",
    "non_smoker = df[df['smoker'] == 'no']\n",
    "smoker_charges_average = smoker['charges'].mean()\n",
    "non_smoker_charges_average = non_smoker['charges'].mean()\n",
    "\n",
    "print(smoker_charges_average)\n",
    "print(non_smoker_charges_average)"
   ]
  },
  {
   "cell_type": "code",
   "execution_count": 18,
   "metadata": {},
   "outputs": [],
   "source": [
    "# make functions that shows the average costs\n",
    "# of patients with same/similar attribute value\n",
    "def analyze_age(age,patients) :\n",
    "    total = 0\n",
    "    cnt = 0\n",
    "    for pt in patients :\n",
    "        if pt.age == age :\n",
    "            total += pt.charges\n",
    "            cnt += 1\n",
    "    if cnt == 0 :\n",
    "        print(\"There is no data for your age\")\n",
    "        return\n",
    "    avg = round(total / cnt , 3)\n",
    "    print(\"Patients in your age : \", age,\" have paid $\", avg, \" on average.\")\n",
    "    return\n",
    "\n",
    "def analyze_bmi(bmi,patients) :\n",
    "    total = 0\n",
    "    cnt = 0\n",
    "    for pt in patients :\n",
    "        if pt.bmi > bmi-1 and pt.bmi < bmi+1 :\n",
    "            total += pt.charges\n",
    "            cnt += 1\n",
    "    if cnt == 0 :\n",
    "        print(\"There is no data for your bmi\")\n",
    "        return\n",
    "    avg = round(total / cnt , 3)\n",
    "    print(\"Patients with your bmi : \", bmi,\" have paid $\", avg, \" on average.\")  \n",
    "    return\n",
    "\n",
    "def analyze_children(children, patients) :\n",
    "    total = 0\n",
    "    cnt = 0 \n",
    "    for pt in patients :\n",
    "        if pt.children == children :\n",
    "            total += pt.charges\n",
    "            cnt += 1\n",
    "    if cnt == 0 :\n",
    "        print(\"There is no data for the number of your children\")\n",
    "        return\n",
    "    avg = round(total / cnt , 3)\n",
    "    print(\"Patients with \", children,\" children have paid $\", avg, \" on average.\")  \n",
    "    return"
   ]
  },
  {
   "cell_type": "code",
   "execution_count": 19,
   "metadata": {},
   "outputs": [
    {
     "name": "stdout",
     "output_type": "stream",
     "text": [
      "Patients in your age :  35  have paid $ 11307.182  on average.\n",
      "Patients with your bmi :  23  have paid $ 10397.599  on average.\n",
      "Patients with  3  children have paid $ 15355.318  on average.\n"
     ]
    }
   ],
   "source": [
    "analyze_age(35, patients)\n",
    "analyze_bmi(23, patients)\n",
    "analyze_children(3, patients)"
   ]
  },
  {
   "cell_type": "code",
   "execution_count": null,
   "metadata": {},
   "outputs": [],
   "source": []
  }
 ],
 "metadata": {
  "kernelspec": {
   "display_name": "Python 3 (ipykernel)",
   "language": "python",
   "name": "python3"
  },
  "language_info": {
   "codemirror_mode": {
    "name": "ipython",
    "version": 3
   },
   "file_extension": ".py",
   "mimetype": "text/x-python",
   "name": "python",
   "nbconvert_exporter": "python",
   "pygments_lexer": "ipython3",
   "version": "3.10.9"
  }
 },
 "nbformat": 4,
 "nbformat_minor": 4
}
